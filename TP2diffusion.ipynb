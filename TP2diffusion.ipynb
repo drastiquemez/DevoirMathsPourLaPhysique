{
 "cells": [
  {
   "cell_type": "markdown",
   "metadata": {},
   "source": [
    "Nicolaos Bibissidis, Andréas Decaestecker\n",
    "\n",
    "# Travail personnel 2: diffusion magnétique."
   ]
  },
  {
   "cell_type": "markdown",
   "metadata": {},
   "source": [
    "Pour ce travail, nous allons considéré l'évolution d'un champ magnétique à l'intérieur d'un conducteur contenat une cavitée supraconductrice. Pour étudier l'évolution de ce champ magnétique $\\vec{B}$, on voudrait aboutir à une équation de diffusion de la forme:\n",
    "\n",
    "\\begin{equation}\n",
    "\\frac{\\partial \\vec{B}}{\\partial t} = \\frac{1}{\\alpha}(\\frac{\\partial^2 \\vec{B}}{\\partial x^2}+\\frac{\\partial^2 \\vec{B}}{\\partial y^2}) \\tag{1}\n",
    "\\end{equation}\n",
    "\n",
    "A partir des équations de Maxwell:\n",
    "\\begin{equation}\n",
    "\\nabla \\times \\vec{E} = - \\frac{\\partial \\vec{B}}{\\partial t}      \\tag{2}                   \n",
    "\\end{equation}\n",
    "\\begin{equation}\n",
    "\\nabla \\times \\vec{B} = \\mu \\vec{J}                          \\tag{3}\n",
    "\\end{equation}\n",
    "\\begin{equation}\n",
    "\\nabla . \\vec{B} = 0                        \\tag{4}\n",
    "\\end{equation}\n",
    "\n",
    "Et de la loi d'Ohm:\n",
    "\\begin{equation}\n",
    "\\vec{J} = \\sigma \\vec{E}                        \\tag{5}\n",
    "\\end{equation}\n",
    "\n",
    "On subsituant $\\vec{B}$ dans l'équation $(2)$ par l'équation $(5)$, on obtient:\n",
    "\\begin{equation}\n",
    "\\nabla \\times \\vec{ \\frac{\\vec{J}}{\\sigma} } = - \\frac{\\partial \\vec{B}}{\\partial t}      \\tag{6}                   \n",
    "\\end{equation}\n",
    "\n",
    "Et en subsituant $\\vec{J}$ dans l'équation $(6)$ par l'équation $(3)$, on trouve:\n",
    "\n",
    "\\begin{equation}\n",
    "\\nabla \\times (\\frac{\\nabla \\times \\vec{B}}{\\mu \\sigma}) = - \\frac{\\partial \\vec{B}}{\\partial t}      \\tag{7}               \\end{equation}\n",
    "\n",
    "On utilise la relation $ \\nabla \\times \\nabla \\times \\vec{B} = \\nabla (\\nabla . \\vec{B}) - \\nabla^2 \\vec{B} $ et l'équation $(4)$ pour obtenir:\n",
    "\\begin{equation}\n",
    "\\frac{1}{\\mu \\sigma}\\nabla^2 \\vec{B} =  \\frac{\\partial \\vec{B}}{\\partial t}      \\tag{8}    \n",
    "\\end{equation}\n",
    "Ce qui nous donne une équation de la forme $(1)$:\n",
    "\\begin{equation}\n",
    "\\frac{1}{\\mu \\sigma}( \\frac{\\partial^2 \\vec{B}}{\\partial x^2} + \\frac{\\partial^2 \\vec{B}}{\\partial y^2})  =  \\frac{\\partial \\vec{B}}{\\partial t}      \\tag{8}    \n",
    "\\end{equation}\n",
    "\n",
    "Pour des raisons de symétrie autour de l'axe oz, le champ magnétique est de la forme: $ \\vec{B} = (0,0,B(x,y))$.\n",
    "\n"
   ]
  },
  {
   "cell_type": "markdown",
   "metadata": {},
   "source": [
    "La composante tangantielle du champ magnétique étant discontinue du fait de la présence du courant de surface $J = 1$, on observe que \n",
    "\n",
    "\\begin{equation}\n",
    "\\vec{B_{int,//}} - \\vec{B_{ext,//}} = \\mu \\vec{J} \\times \\vec{n}    \n",
    "\\end{equation}\n",
    "\n",
    "Où $ \\vec{B}_{int,//} $ est la composante tangantielle du champ magnétique à l'intérieur du conducteur, $ \\vec{B}_{ext,//} = 0 $ est la composante tangantielle du champ magnétique à l'extérieur du conducteur, $\\vec{n}$ la normal à la surface du conducteur. On a alors comme condition aux bords extérieur $B= -\\mu$ sur le bord de la surface.\n",
    "Le rotationnel de $\\vec{B}$ étant nul au bord du supraconcteur $ \\nabla \\times \\vec{B} =0 $, on obtient comme condition aux bords que les dérivés du champs magnétique aux bords doivent être nulle, $ \\frac{\\partial \\vec{B}}{\\partial x} = 0 $, $ \\frac{\\partial \\vec{B}}{\\partial y} = 0 $. De plus, dans le supraconducteur $\\sigma$ tend vers l'infini ce qui annule le terme de gauche de l'équation $(8)$. On a donc que le champ magnétique est constant au cours du temps dans le supraconducteur et vu que initiallement le champ magnétique est nulle, le champ magnétique $ B_{supracond} = 0 $. "
   ]
  },
  {
   "cell_type": "markdown",
   "metadata": {},
   "source": [
    "On prend un temps dt pour la discrétisation égal à $dt = 2.5.10^{-7}s$ pour respecter la condition de stabilitée:\n",
    "\n",
    "\\begin{equation}\n",
    "\\alpha \\frac{\\Delta t}{(\\Delta x)^2}+\\alpha \\frac{\\Delta t}{(\\Delta y)^2} < \\frac{1}{2} \n",
    "\\end{equation}\n",
    "Avec $ \\alpha = \\frac{1}{\\sigma \\mu} $ où $ \\mu = 1.26.10^{-6} N/A^2 $ et $ \\sigma_{cond} = 5.96.10^{7} S/m$."
   ]
  },
  {
   "cell_type": "code",
   "execution_count": 20,
   "metadata": {},
   "outputs": [
    {
     "data": {
      "text/plain": [
       "(0.0, 0.014999999999999999, 0.0, 0.014999999999999999)"
      ]
     },
     "execution_count": 20,
     "metadata": {},
     "output_type": "execute_result"
    },
    {
     "data": {
      "text/plain": [
       "<matplotlib.figure.Figure at 0x1c203991668>"
      ]
     },
     "metadata": {},
     "output_type": "display_data"
    },
    {
     "data": {
      "image/png": "[encoded data removed]",
      "text/plain": [
       "<matplotlib.figure.Figure at 0x1c2039915c0>"
      ]
     },
     "metadata": {},
     "output_type": "display_data"
    }
   ],
   "source": [
    "import numpy\n",
    "from matplotlib import pyplot\n",
    "%matplotlib inline\n",
    "from matplotlib import rcParams, cm\n",
    "rcParams['font.family'] = 'serif'\n",
    "rcParams['font.size'] = 16\n",
    "\n",
    "\n",
    "def ftcs(T, nt, alpha, dt, dx, dy):\n",
    "   \n",
    "    for n in range(nt):\n",
    "        Tn = T.copy()\n",
    "        \n",
    "        T[1:-1,1:-1] = Tn[1:-1,1:-1] + alpha * (dt/dy**2 * (Tn[2:,1:-1] - 2*Tn[1:-1,1:-1] + Tn[:-2,1:-1]) +\\\n",
    "             dt/dx**2 * (Tn[1:-1,2:] - 2*Tn[1:-1,1:-1] + Tn[1:-1,:-2]))\n",
    "        \n",
    "        \n",
    "        #condition de Neumann pour le bord exterieur\n",
    "        T[1,:] =T[0,:]\n",
    "        T[:,1] =T[:,0]\n",
    "        T[-2,:] =T[-1,:]\n",
    "        T[:,-2] =T[:,-1]\n",
    "        # condition de Neumann pour le supraconducteur\n",
    "        T[39,40:81] =T[38,40:81]\n",
    "        T[40:81,39] =T[40:81,38]\n",
    "        T[81,40:81] =T[82,40:81]\n",
    "        T[40:81,81] =T[40:81,82]\n",
    "        # condition de Dirichlet le supraconducteur\n",
    "        T[40:81,40]= 0\n",
    "        T[40,40:81]= 0\n",
    "        T[80,40:81]= 0\n",
    "        T[40:81,80]= 0\n",
    "        \n",
    "    return T\n",
    "\n",
    "L = 1.5e-2\n",
    "H = 1.5e-2\n",
    "\n",
    "nx = 121\n",
    "ny = 121\n",
    "nt = 5000  #ceci correspond à 1.25*10^-3s\n",
    "\n",
    "dx = L/(nx-1)\n",
    "dy = H/(ny-1)\n",
    "\n",
    "x = numpy.linspace(0,L,nx)\n",
    "y = numpy.linspace(0,H,ny)\n",
    "\n",
    "alpha = 1/(5.96*1.26*10)\n",
    "\n",
    "Ti = numpy.zeros((ny, nx))\n",
    "\n",
    "#conditions diri ext\n",
    "\n",
    "Ti[0,:]   =-1.26e-6\n",
    "Ti[:,0]   =-1.26e-6\n",
    "Ti[120,:] =-1.26e-6\n",
    "Ti[:,120] =-1.26e-6\n",
    "\n",
    "dt = 2.5e-7\n",
    "\n",
    "B = ftcs(Ti.copy(), nt, alpha, dt, dx, dy)\n",
    "\n",
    "pyplot.figure(figsize=(8,5))\n",
    "pyplot.contourf(x,y,B,20,cmap=cm.viridis)\n",
    "\n",
    "pyplot.xlabel('$x$')\n",
    "pyplot.ylabel('$y$')\n",
    "pyplot.colorbar();\n",
    "pyplot.axis('scaled')\n",
    "\n"
   ]
  },
  {
   "cell_type": "markdown",
   "metadata": {},
   "source": [
    "Nous pouvons trouver la valeur du champs magnétique en (x,y,z)=(0.0025,0.0025,0) au point  d'indice x=20, y=20"
   ]
  },
  {
   "cell_type": "code",
   "execution_count": 21,
   "metadata": {},
   "outputs": [
    {
     "name": "stdout",
     "output_type": "stream",
     "text": [
      "-1.19387983877e-06\n"
     ]
    }
   ],
   "source": [
    "print (B[20][20])\n"
   ]
  },
  {
   "cell_type": "markdown",
   "metadata": {},
   "source": [
    "La densité de courant en un point du conducteur est donnée par la formule:\n",
    "\\begin{equation}\n",
    "\\vec{J} = \\frac{1}{\\mu}(\\frac{\\partial B}{\\partial y} u_x - \\frac{\\partial B}{\\partial x} u_y)\n",
    "\\end{equation}\n",
    "Une fois discrétiser cela donne:\n",
    "\\begin{equation}\n",
    "\\vec{J} = \\frac{1}{\\mu}(\\frac{B_{i,j+1} -B_{i,j}}{\\Delta y} u_x - \\frac{B_{i+1,j}-B_{i,j}}{\\Delta x} u_y)\n",
    "\\end{equation}\n"
   ]
  },
  {
   "cell_type": "code",
   "execution_count": 22,
   "metadata": {},
   "outputs": [
    {
     "name": "stdout",
     "output_type": "stream",
     "text": [
      "J= 18.6796443421 ux + 18.6796443421 uy\n"
     ]
    }
   ],
   "source": [
    "print( 'J=',(B[20][20]-B[20][19])/(dx*1.26e-6) ,\"ux +\", (B[20][20]-B[19][20])/(dy*1.26e-6),'uy')"
   ]
  },
  {
   "cell_type": "code",
   "execution_count": 23,
   "metadata": {
    "collapsed": true
   },
   "outputs": [],
   "source": [
    "nt = 50000 #ceci correspond 1.25*10^-2\n",
    "B = ftcs(Ti.copy(), nt, alpha, dt, dx, dy)"
   ]
  },
  {
   "cell_type": "markdown",
   "metadata": {
    "collapsed": true
   },
   "source": [
    "Pour calculer le flux du champ magnétique à travers la surface du conducteur, il faut conciderer l'intégrale suivante:\n",
    "\\begin{equation}\n",
    "\\Phi = \\int_{\\Sigma} \\mathrm{\\vec{B}}\\,\\mathrm{d}\\ \\vec{\\Sigma} = \\int_0^{0.015} \\int_0^{0.015} B \\,dx\\,dy\n",
    "\\end{equation} \n",
    "Cependant, on peut aussi discrétiser cette intégrale de la manière suivante:\n",
    "\\begin{equation}\n",
    "\\Phi = \\sum_{i=1}^{120} \\sum_{j=1}^{120} B_{i,j}\n",
    "\\end{equation}"
   ]
  },
  {
   "cell_type": "code",
   "execution_count": 24,
   "metadata": {},
   "outputs": [
    {
     "name": "stdout",
     "output_type": "stream",
     "text": [
      "-1.57499999995e-12\n"
     ]
    }
   ],
   "source": [
    "def flux(i,nx,j,ny,dx,dy):\n",
    "    flu = 0\n",
    "    while i < nx:\n",
    "        while j < ny:\n",
    "            flu = flu + B[i][j]*dx*dy\n",
    "            i = i + 1\n",
    "            j = j + 1\n",
    "    return (flu)\n",
    "print(flux(0,121,0,121,0.000125,0.000125))"
   ]
  },
  {
   "cell_type": "code",
   "execution_count": null,
   "metadata": {
    "collapsed": true
   },
   "outputs": [],
   "source": []
  }
 ],
 "metadata": {
  "kernelspec": {
   "display_name": "Python 3",
   "language": "python",
   "name": "python3"
  },
  "language_info": {
   "codemirror_mode": {
    "name": "ipython",
    "version": 3
   },
   "file_extension": ".py",
   "mimetype": "text/x-python",
   "name": "python",
   "nbconvert_exporter": "python",
   "pygments_lexer": "ipython3",
   "version": "3.6.1"
  }
 },
 "nbformat": 4,
 "nbformat_minor": 2
}
